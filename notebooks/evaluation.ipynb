{
 "cells": [
  {
   "cell_type": "markdown",
   "id": "cc6d1355-3c42-47e0-bc7b-3e600b3703ac",
   "metadata": {},
   "source": [
    "# Evaluating models\n",
    "Here you can find some code that may be useful in evaluating trained models."
   ]
  },
  {
   "cell_type": "code",
   "execution_count": 1,
   "id": "c9c3335a-fbb5-47a7-a662-76d97ddcbe8d",
   "metadata": {
    "tags": []
   },
   "outputs": [],
   "source": [
    "import torch\n",
    "import numpy as np\n",
    "import json\n",
    "\n",
    "import torch.nn as nn\n",
    "\n",
    "# FrEIA imports\n",
    "import FrEIA.framework as Ff\n",
    "import FrEIA.modules as Fm"
   ]
  },
  {
   "cell_type": "markdown",
   "id": "8e8825a3-b31a-4daf-a927-9b34e64c03f1",
   "metadata": {},
   "source": [
    "## Load data\n",
    "\n",
    "Replace the location of the weights file and initialization parameters below."
   ]
  },
  {
   "cell_type": "code",
   "execution_count": 2,
   "id": "69cbe9b1-6d9e-468b-8a5e-7f55475f2101",
   "metadata": {},
   "outputs": [],
   "source": [
    "d = '../saved_weights/' + 'LTN_airfoil-6-circles'\n",
    "with open(d + '/init_parameters.json') as f:\n",
    "    init_params = json.loads(f.read())"
   ]
  },
  {
   "cell_type": "markdown",
   "id": "86d51dce-e885-4b97-86a1-0f5bdfc6a6ee",
   "metadata": {},
   "source": [
    "Initialize with the right data or there may be problems with dimensionality."
   ]
  },
  {
   "cell_type": "code",
   "execution_count": 3,
   "id": "94edffa4-5bb8-4601-8123-6f17f14c6286",
   "metadata": {},
   "outputs": [],
   "source": [
    "base_data = torch.load('../datasets/airfoil_base.pt')\n",
    "cover_data = torch.load('../datasets/airfoil_bundle.pt')\n",
    "init_params['base_data'] = base_data\n",
    "init_params['cover_data'] = cover_data"
   ]
  },
  {
   "cell_type": "markdown",
   "id": "28f17868-6c20-455d-ab3c-4571d3f4b073",
   "metadata": {},
   "source": [
    "## Initialize model"
   ]
  },
  {
   "cell_type": "code",
   "execution_count": 4,
   "id": "36fe66cc-d739-46ae-ac63-2269eb775473",
   "metadata": {},
   "outputs": [],
   "source": [
    "device = 'cuda:7'\n",
    "\n",
    "dev = torch.device('cuda:7')\n",
    "init_params['device'] = device"
   ]
  },
  {
   "cell_type": "code",
   "execution_count": 5,
   "id": "95996164-2d30-4444-a4c4-67678e0b4526",
   "metadata": {
    "tags": []
   },
   "outputs": [],
   "source": [
    "from bundlenet import BundleNet as LocalTrivNet\n",
    "model = LocalTrivNet(**init_params)\n",
    "\n",
    "model.model.load_state_dict(torch.load(d + '/final-weights.pt', map_location=dev))\n",
    "\n",
    "model.centers = torch.load(d+'/centers.pt')\n",
    "model.base_nbhds = torch.load(d+'/base_nbhds.pt')\n",
    "model.cover_nbhds = torch.load(d+'/cover_nbhds.pt')\n",
    "\n",
    "_ = model.model.to(model.device)"
   ]
  },
  {
   "cell_type": "code",
   "execution_count": 12,
   "id": "93e256f8-2d38-46a0-934e-ee105a7f7713",
   "metadata": {},
   "outputs": [],
   "source": [
    "from bundlenet import CGAN_triv\n",
    "model = CGAN_triv(**init_params)\n",
    "\n",
    "model.G.load_state_dict(torch.load(d + '/final-G-weights.pt'))\n",
    "model.D.load_state_dict(torch.load(d + '/final-D-weights.pt'))\n",
    "\n",
    "_ = model.G.to(model.device)\n",
    "_ = model.D.to(model.device)"
   ]
  },
  {
   "cell_type": "code",
   "execution_count": 13,
   "id": "e850f3e8-9826-45e1-87bb-cae053ffb858",
   "metadata": {},
   "outputs": [],
   "source": [
    "model.centers = torch.load(d+'/centers.pt')\n",
    "model.base_nbhds = torch.load(d+'/base_nbhds.pt')\n",
    "model.cover_nbhds = torch.load(d+'/cover_nbhds.pt')"
   ]
  },
  {
   "cell_type": "code",
   "execution_count": 4,
   "id": "c2eb030a-c010-4965-ab29-95d018a61291",
   "metadata": {},
   "outputs": [],
   "source": [
    "from bundlenet import CGAN\n",
    "model = CGAN(**init_params)\n",
    "\n",
    "model.G.load_state_dict(torch.load(d + '/final-G-weights.pt'))\n",
    "model.D.load_state_dict(torch.load(d + '/final-D-weights.pt'))\n",
    "\n",
    "_ = model.G.to(model.device)\n",
    "_ = model.D.to(model.device)"
   ]
  },
  {
   "cell_type": "code",
   "execution_count": 4,
   "id": "5d08d447-411f-45f7-9604-ccba3e7f2b90",
   "metadata": {},
   "outputs": [],
   "source": [
    "from bundlenet import WGAN_div\n",
    "model=WGAN_div(**init_params)\n",
    "\n",
    "model.G.load_state_dict(torch.load(d + '/final-G-weights.pt'))\n",
    "model.D.load_state_dict(torch.load(d + '/final-D-weights.pt'))\n",
    "\n",
    "_ = model.G.to(model.device)\n",
    "_ = model.D.to(model.device)"
   ]
  },
  {
   "cell_type": "markdown",
   "id": "b8b5e368-1d77-45ac-8048-18cef6be1420",
   "metadata": {},
   "source": [
    "## Evaluate\n",
    "Here we run the evaluation and pretty-print the results (which include bootstrapped CI's)"
   ]
  },
  {
   "cell_type": "code",
   "execution_count": 7,
   "id": "d3c84aa0-174c-4854-af26-f3162bbb9a4a",
   "metadata": {},
   "outputs": [
    {
     "name": "stdout",
     "output_type": "stream",
     "text": [
      "Global Losses: 0 1 2 3 4 5 6 7 8 9 \n",
      "Fiber Losses 0 1 2 3 4 5 6 7 8 9 \n",
      " {'global': {'Wass1': (1.1240829, BootstrapResult(confidence_interval=ConfidenceInterval(low=1.1174857145718278, high=1.12821770308617), standard_error=0.0026329735))}, 'fiber': {'Wass1': (3.0715075, BootstrapResult(confidence_interval=ConfidenceInterval(low=3.003512397194155, high=3.1434332595634107), standard_error=0.036108673))}}\n"
     ]
    }
   ],
   "source": [
    "from bundlenet.evaluation import evaluate_airfoil_minimal as evaluate\n",
    "results = evaluate(model)"
   ]
  },
  {
   "cell_type": "code",
   "execution_count": 8,
   "id": "9e05cd5f-b43e-4158-b3c5-18a8c3e0d946",
   "metadata": {},
   "outputs": [
    {
     "name": "stdout",
     "output_type": "stream",
     "text": [
      "global Wass1: mean 1.124\\pm0.007\n",
      "fiber Wass1: mean 3.072\\pm0.072\n"
     ]
    }
   ],
   "source": [
    "for name in ['global', 'fiber']:\n",
    "    for key in results[name]:\n",
    "        t = results[name][key]\n",
    "        val = t[0]\n",
    "        upper = t[1].confidence_interval.high\n",
    "        lower = t[1].confidence_interval.low\n",
    "        if key == 'MMD':\n",
    "            val *= 1000\n",
    "            upper *= 1000\n",
    "            lower *= 1000\n",
    "        print(f'{name} {key}: mean {val:5.3f}\\pm{max(upper-val, val-lower):5.3f}')"
   ]
  },
  {
   "cell_type": "code",
   "execution_count": null,
   "id": "2dc2591c-b8fc-4c33-aade-cad0269a1cc4",
   "metadata": {},
   "outputs": [],
   "source": []
  }
 ],
 "metadata": {
  "kernelspec": {
   "display_name": "Python 3",
   "language": "python",
   "name": "python3"
  },
  "language_info": {
   "codemirror_mode": {
    "name": "ipython",
    "version": 3
   },
   "file_extension": ".py",
   "mimetype": "text/x-python",
   "name": "python",
   "nbconvert_exporter": "python",
   "pygments_lexer": "ipython3",
   "version": "3.8.10"
  }
 },
 "nbformat": 4,
 "nbformat_minor": 5
}
